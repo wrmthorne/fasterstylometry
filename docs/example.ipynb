{
 "cells": [
  {
   "cell_type": "code",
   "execution_count": 1,
   "metadata": {},
   "outputs": [],
   "source": [
    "from gutenberg.acquire import load_etext\n",
    "from gutenberg.cleanup import strip_headers\n",
    "\n",
    "from fasterstylometry import Corpus, BurrowsDelta"
   ]
  },
  {
   "cell_type": "markdown",
   "metadata": {},
   "source": [
    "## Loading Books\n",
    "\n",
    "We can load in some sample books from project gutenberg. Into the reference set we will load three works by Jane Austen and three works by Shakespeare but two of the books will be different editions of the same story. The test set will contain one work by Jane Austen, one by Shakespeare and one by Charles Dickens.\n",
    "\n",
    "Depending on how Gutenbergs mirrors are faring when you try to download the books, you may have to select a [mirror from their list](https://www.gutenberg.org/MIRRORS.ALL)."
   ]
  },
  {
   "cell_type": "code",
   "execution_count": 2,
   "metadata": {},
   "outputs": [],
   "source": [
    "# Change mirror here if necessary\n",
    "MIRROR = 'http://gutenberg.pglaf.org/'\n",
    "\n",
    "# Load in the training books\n",
    "train_ids = [1342, 161, 158, 1513, 27761, 1524]\n",
    "train_data = {\n",
    "    'authors': ['Jane Austen', 'Jane Austen', 'Jane Austen', 'William Shakespeare', 'William Shakespeare', 'William Shakespeare'],\n",
    "    'titles': ['Pride and Prejudice', 'Sense and Sensibility', 'Emma', 'Romeo and Juliet', 'Hamlet', 'Hamlet'],\n",
    "    'texts': [strip_headers(load_etext(id, mirror=MIRROR)).strip() for id in train_ids]\n",
    "}\n",
    "\n",
    "# Load in the testing books\n",
    "test_ids = [105, 23042, 1400]\n",
    "test_data = {\n",
    "    'authors': ['Jane Austen', 'William Shakespeare', 'Charles Dickens'],\n",
    "    'titles': ['Persuasion', 'The Temptest', 'Great Expectations'],\n",
    "    'texts': [strip_headers(load_etext(id, mirror=MIRROR)).strip() for id in test_ids]\n",
    "}"
   ]
  },
  {
   "cell_type": "markdown",
   "metadata": {},
   "source": [
    "## Create Corpora and Initialise Burrows Delta\n",
    "\n",
    "Create the train and test corpora, making sure to pass the top_k_tokens form the train corpus to the test corpus when initialising.\n",
    "\n",
    "The Burrows Delta object can be instantiated using these two corpora as parameters.\n",
    "\n",
    "Instantiating a corpus does not inistalise any calcualtions. The underlying datastructure for the corpus is a LazyFrame which will only evaluate once a statistic is required."
   ]
  },
  {
   "cell_type": "code",
   "execution_count": 3,
   "metadata": {},
   "outputs": [],
   "source": [
    "# Create train and test corpora\n",
    "train_corpus = Corpus(**train_data)\n",
    "test_corpus = Corpus(**test_data, top_k_tokens=train_corpus.top_k_tokens)\n",
    "\n",
    "# Instantiate BurrowsDelta object\n",
    "burrows_delta = BurrowsDelta(train_corpus, test_corpus)"
   ]
  },
  {
   "cell_type": "markdown",
   "metadata": {},
   "source": [
    "## Generating Delta-Based Metrics\n",
    "\n",
    "There are a few statistics that can be calcualted from the Burrows-Delta object. The full set of deltas for train-test document-wise permutations can be returned using the `document_deltas` property. \n",
    "\n",
    "The other statistic is `author_deltas` which calulates the Burrows-Delta between each test document and unique author in the train set. This is useful for author attribution.\n",
    "\n",
    "Both methods will cause the LazyFrames to collect. Until one of these properties is called, no calculations are performed.\n",
    "\n",
    "`NOTE:` the `document_deltas` requires a lot more memory and computation than `author_deltas`."
   ]
  },
  {
   "cell_type": "code",
   "execution_count": 4,
   "metadata": {},
   "outputs": [
    {
     "data": {
      "text/html": [
       "<div><style>\n",
       ".dataframe > thead > tr,\n",
       ".dataframe > tbody > tr {\n",
       "  text-align: right;\n",
       "  white-space: pre-wrap;\n",
       "}\n",
       "</style>\n",
       "<small>shape: (18, 7)</small><table border=\"1\" class=\"dataframe\"><thead><tr><th>index</th><th>author</th><th>title</th><th>index_test</th><th>author_test</th><th>title_test</th><th>burrows_delta</th></tr><tr><td>str</td><td>str</td><td>str</td><td>str</td><td>str</td><td>str</td><td>f64</td></tr></thead><tbody><tr><td>&quot;59cdb89e-27a7-498f-bfc3-bdeb7c…</td><td>&quot;William Shakespeare&quot;</td><td>&quot;Hamlet&quot;</td><td>&quot;fa0170c2-7457-47a5-bfe2-968185…</td><td>&quot;William Shakespeare&quot;</td><td>&quot;The Temptest&quot;</td><td>0.37244</td></tr><tr><td>&quot;ab6596d7-cc5c-4be6-9484-40adff…</td><td>&quot;William Shakespeare&quot;</td><td>&quot;Romeo and Juliet&quot;</td><td>&quot;fa0170c2-7457-47a5-bfe2-968185…</td><td>&quot;William Shakespeare&quot;</td><td>&quot;The Temptest&quot;</td><td>0.376282</td></tr><tr><td>&quot;fdb42b9d-cd9c-48d3-bf43-0a9e87…</td><td>&quot;William Shakespeare&quot;</td><td>&quot;Hamlet&quot;</td><td>&quot;fa0170c2-7457-47a5-bfe2-968185…</td><td>&quot;William Shakespeare&quot;</td><td>&quot;The Temptest&quot;</td><td>0.403112</td></tr><tr><td>&quot;96b5c287-35d4-414e-b765-ed348c…</td><td>&quot;Jane Austen&quot;</td><td>&quot;Pride and Prejudice&quot;</td><td>&quot;76eea703-047b-4b73-97de-447456…</td><td>&quot;Charles Dickens&quot;</td><td>&quot;Great Expectations&quot;</td><td>0.602278</td></tr><tr><td>&quot;da0da011-f2f3-4473-a06b-c029bf…</td><td>&quot;Jane Austen&quot;</td><td>&quot;Sense and Sensibility&quot;</td><td>&quot;76eea703-047b-4b73-97de-447456…</td><td>&quot;Charles Dickens&quot;</td><td>&quot;Great Expectations&quot;</td><td>0.65148</td></tr><tr><td>&hellip;</td><td>&hellip;</td><td>&hellip;</td><td>&hellip;</td><td>&hellip;</td><td>&hellip;</td><td>&hellip;</td></tr><tr><td>&quot;96b5c287-35d4-414e-b765-ed348c…</td><td>&quot;Jane Austen&quot;</td><td>&quot;Pride and Prejudice&quot;</td><td>&quot;fa0170c2-7457-47a5-bfe2-968185…</td><td>&quot;William Shakespeare&quot;</td><td>&quot;The Temptest&quot;</td><td>1.397659</td></tr><tr><td>&quot;fdb42b9d-cd9c-48d3-bf43-0a9e87…</td><td>&quot;William Shakespeare&quot;</td><td>&quot;Hamlet&quot;</td><td>&quot;76eea703-047b-4b73-97de-447456…</td><td>&quot;Charles Dickens&quot;</td><td>&quot;Great Expectations&quot;</td><td>1.456683</td></tr><tr><td>&quot;ab6596d7-cc5c-4be6-9484-40adff…</td><td>&quot;William Shakespeare&quot;</td><td>&quot;Romeo and Juliet&quot;</td><td>&quot;76eea703-047b-4b73-97de-447456…</td><td>&quot;Charles Dickens&quot;</td><td>&quot;Great Expectations&quot;</td><td>1.543043</td></tr><tr><td>&quot;59cdb89e-27a7-498f-bfc3-bdeb7c…</td><td>&quot;William Shakespeare&quot;</td><td>&quot;Hamlet&quot;</td><td>&quot;76eea703-047b-4b73-97de-447456…</td><td>&quot;Charles Dickens&quot;</td><td>&quot;Great Expectations&quot;</td><td>1.558848</td></tr><tr><td>&quot;4ca00abb-fa95-4b7b-a0bb-80aa88…</td><td>&quot;Jane Austen&quot;</td><td>&quot;Emma&quot;</td><td>&quot;fa0170c2-7457-47a5-bfe2-968185…</td><td>&quot;William Shakespeare&quot;</td><td>&quot;The Temptest&quot;</td><td>1.880811</td></tr></tbody></table></div>"
      ],
      "text/plain": [
       "shape: (18, 7)\n",
       "┌──────────────┬─────────────┬─────────────┬─────────────┬─────────────┬─────────────┬─────────────┐\n",
       "│ index        ┆ author      ┆ title       ┆ index_test  ┆ author_test ┆ title_test  ┆ burrows_del │\n",
       "│ ---          ┆ ---         ┆ ---         ┆ ---         ┆ ---         ┆ ---         ┆ ta          │\n",
       "│ str          ┆ str         ┆ str         ┆ str         ┆ str         ┆ str         ┆ ---         │\n",
       "│              ┆             ┆             ┆             ┆             ┆             ┆ f64         │\n",
       "╞══════════════╪═════════════╪═════════════╪═════════════╪═════════════╪═════════════╪═════════════╡\n",
       "│ 59cdb89e-27a ┆ William     ┆ Hamlet      ┆ fa0170c2-74 ┆ William     ┆ The         ┆ 0.37244     │\n",
       "│ 7-498f-bfc3- ┆ Shakespeare ┆             ┆ 57-47a5-bfe ┆ Shakespeare ┆ Temptest    ┆             │\n",
       "│ bdeb7c…      ┆             ┆             ┆ 2-968185…   ┆             ┆             ┆             │\n",
       "│ ab6596d7-cc5 ┆ William     ┆ Romeo and   ┆ fa0170c2-74 ┆ William     ┆ The         ┆ 0.376282    │\n",
       "│ c-4be6-9484- ┆ Shakespeare ┆ Juliet      ┆ 57-47a5-bfe ┆ Shakespeare ┆ Temptest    ┆             │\n",
       "│ 40adff…      ┆             ┆             ┆ 2-968185…   ┆             ┆             ┆             │\n",
       "│ fdb42b9d-cd9 ┆ William     ┆ Hamlet      ┆ fa0170c2-74 ┆ William     ┆ The         ┆ 0.403112    │\n",
       "│ c-48d3-bf43- ┆ Shakespeare ┆             ┆ 57-47a5-bfe ┆ Shakespeare ┆ Temptest    ┆             │\n",
       "│ 0a9e87…      ┆             ┆             ┆ 2-968185…   ┆             ┆             ┆             │\n",
       "│ 96b5c287-35d ┆ Jane Austen ┆ Pride and   ┆ 76eea703-04 ┆ Charles     ┆ Great Expec ┆ 0.602278    │\n",
       "│ 4-414e-b765- ┆             ┆ Prejudice   ┆ 7b-4b73-97d ┆ Dickens     ┆ tations     ┆             │\n",
       "│ ed348c…      ┆             ┆             ┆ e-447456…   ┆             ┆             ┆             │\n",
       "│ da0da011-f2f ┆ Jane Austen ┆ Sense and   ┆ 76eea703-04 ┆ Charles     ┆ Great Expec ┆ 0.65148     │\n",
       "│ 3-4473-a06b- ┆             ┆ Sensibility ┆ 7b-4b73-97d ┆ Dickens     ┆ tations     ┆             │\n",
       "│ c029bf…      ┆             ┆             ┆ e-447456…   ┆             ┆             ┆             │\n",
       "│ …            ┆ …           ┆ …           ┆ …           ┆ …           ┆ …           ┆ …           │\n",
       "│ 96b5c287-35d ┆ Jane Austen ┆ Pride and   ┆ fa0170c2-74 ┆ William     ┆ The         ┆ 1.397659    │\n",
       "│ 4-414e-b765- ┆             ┆ Prejudice   ┆ 57-47a5-bfe ┆ Shakespeare ┆ Temptest    ┆             │\n",
       "│ ed348c…      ┆             ┆             ┆ 2-968185…   ┆             ┆             ┆             │\n",
       "│ fdb42b9d-cd9 ┆ William     ┆ Hamlet      ┆ 76eea703-04 ┆ Charles     ┆ Great Expec ┆ 1.456683    │\n",
       "│ c-48d3-bf43- ┆ Shakespeare ┆             ┆ 7b-4b73-97d ┆ Dickens     ┆ tations     ┆             │\n",
       "│ 0a9e87…      ┆             ┆             ┆ e-447456…   ┆             ┆             ┆             │\n",
       "│ ab6596d7-cc5 ┆ William     ┆ Romeo and   ┆ 76eea703-04 ┆ Charles     ┆ Great Expec ┆ 1.543043    │\n",
       "│ c-4be6-9484- ┆ Shakespeare ┆ Juliet      ┆ 7b-4b73-97d ┆ Dickens     ┆ tations     ┆             │\n",
       "│ 40adff…      ┆             ┆             ┆ e-447456…   ┆             ┆             ┆             │\n",
       "│ 59cdb89e-27a ┆ William     ┆ Hamlet      ┆ 76eea703-04 ┆ Charles     ┆ Great Expec ┆ 1.558848    │\n",
       "│ 7-498f-bfc3- ┆ Shakespeare ┆             ┆ 7b-4b73-97d ┆ Dickens     ┆ tations     ┆             │\n",
       "│ bdeb7c…      ┆             ┆             ┆ e-447456…   ┆             ┆             ┆             │\n",
       "│ 4ca00abb-fa9 ┆ Jane Austen ┆ Emma        ┆ fa0170c2-74 ┆ William     ┆ The         ┆ 1.880811    │\n",
       "│ 5-4b7b-a0bb- ┆             ┆             ┆ 57-47a5-bfe ┆ Shakespeare ┆ Temptest    ┆             │\n",
       "│ 80aa88…      ┆             ┆             ┆ 2-968185…   ┆             ┆             ┆             │\n",
       "└──────────────┴─────────────┴─────────────┴─────────────┴─────────────┴─────────────┴─────────────┘"
      ]
     },
     "execution_count": 4,
     "metadata": {},
     "output_type": "execute_result"
    }
   ],
   "source": [
    "burrows_delta.document_deltas"
   ]
  },
  {
   "cell_type": "code",
   "execution_count": 5,
   "metadata": {},
   "outputs": [
    {
     "data": {
      "text/html": [
       "<div><style>\n",
       ".dataframe > thead > tr,\n",
       ".dataframe > tbody > tr {\n",
       "  text-align: right;\n",
       "  white-space: pre-wrap;\n",
       "}\n",
       "</style>\n",
       "<small>shape: (2, 4)</small><table border=\"1\" class=\"dataframe\"><thead><tr><th>author_train</th><th>{&quot;76eea703-047b-4b73-97de-44745612a4ea&quot;,&quot;Great Expectations&quot;,&quot;Charles Dickens&quot;}</th><th>{&quot;b244396a-5cac-4425-ab31-2c87f5ad5ec0&quot;,&quot;Persuasion&quot;,&quot;Jane Austen&quot;}</th><th>{&quot;fa0170c2-7457-47a5-bfe2-968185e98aa8&quot;,&quot;The Temptest&quot;,&quot;William Shakespeare&quot;}</th></tr><tr><td>str</td><td>f64</td><td>f64</td><td>f64</td></tr></thead><tbody><tr><td>&quot;Jane Austen&quot;</td><td>0.396946</td><td>0.760167</td><td>1.655521</td></tr><tr><td>&quot;William Shakespeare&quot;</td><td>1.573442</td><td>0.935512</td><td>0.223838</td></tr></tbody></table></div>"
      ],
      "text/plain": [
       "shape: (2, 4)\n",
       "┌─────────────────────┬─────────────────────────┬─────────────────────────┬────────────────────────┐\n",
       "│ author_train        ┆ {\"76eea703-047b-4b73-97 ┆ {\"b244396a-5cac-4425-ab ┆ {\"fa0170c2-7457-47a5-b │\n",
       "│ ---                 ┆ de-4474…                ┆ 31-2c87…                ┆ fe2-9681…              │\n",
       "│ str                 ┆ ---                     ┆ ---                     ┆ ---                    │\n",
       "│                     ┆ f64                     ┆ f64                     ┆ f64                    │\n",
       "╞═════════════════════╪═════════════════════════╪═════════════════════════╪════════════════════════╡\n",
       "│ Jane Austen         ┆ 0.396946                ┆ 0.760167                ┆ 1.655521               │\n",
       "│ William Shakespeare ┆ 1.573442                ┆ 0.935512                ┆ 0.223838               │\n",
       "└─────────────────────┴─────────────────────────┴─────────────────────────┴────────────────────────┘"
      ]
     },
     "execution_count": 5,
     "metadata": {},
     "output_type": "execute_result"
    }
   ],
   "source": [
    "burrows_delta.author_deltas"
   ]
  },
  {
   "cell_type": "markdown",
   "metadata": {},
   "source": [
    "## Comparison with FastStylometry"
   ]
  },
  {
   "cell_type": "code",
   "execution_count": 17,
   "metadata": {},
   "outputs": [
    {
     "data": {
      "text/html": [
       "<div>\n",
       "<style scoped>\n",
       "    .dataframe tbody tr th:only-of-type {\n",
       "        vertical-align: middle;\n",
       "    }\n",
       "\n",
       "    .dataframe tbody tr th {\n",
       "        vertical-align: top;\n",
       "    }\n",
       "\n",
       "    .dataframe thead th {\n",
       "        text-align: right;\n",
       "    }\n",
       "</style>\n",
       "<table border=\"1\" class=\"dataframe\">\n",
       "  <thead>\n",
       "    <tr style=\"text-align: right;\">\n",
       "      <th></th>\n",
       "      <th>Charles Dickens - Great Expectations</th>\n",
       "      <th>Jane Austen - Persuasion</th>\n",
       "      <th>William Shakespeare - The Temptest</th>\n",
       "    </tr>\n",
       "  </thead>\n",
       "  <tbody>\n",
       "    <tr>\n",
       "      <th>Jane Austen</th>\n",
       "      <td>3.146572</td>\n",
       "      <td>1.204202</td>\n",
       "      <td>2.765183</td>\n",
       "    </tr>\n",
       "    <tr>\n",
       "      <th>William Shakespeare</th>\n",
       "      <td>3.300639</td>\n",
       "      <td>2.160150</td>\n",
       "      <td>1.818960</td>\n",
       "    </tr>\n",
       "  </tbody>\n",
       "</table>\n",
       "</div>"
      ],
      "text/plain": [
       "                     Charles Dickens - Great Expectations  ...  William Shakespeare - The Temptest\n",
       "Jane Austen                                      3.146572  ...                            2.765183\n",
       "William Shakespeare                              3.300639  ...                            1.818960\n",
       "\n",
       "[2 rows x 3 columns]"
      ]
     },
     "execution_count": 17,
     "metadata": {},
     "output_type": "execute_result"
    }
   ],
   "source": [
    "from faststylometry import Corpus as fs_Corpus\n",
    "from faststylometry.en import tokenise_remove_pronouns_en\n",
    "from faststylometry.burrows_delta import calculate_burrows_delta\n",
    "\n",
    "# Load and tokenise training corpus\n",
    "fs_train_corpus = fs_Corpus()\n",
    "for author, text, title in zip(*train_data.values()):\n",
    "    fs_train_corpus.add_book(author, title, text)\n",
    "\n",
    "fs_train_corpus.tokenise(tokenise_remove_pronouns_en)\n",
    "\n",
    "# Load and tokenise test corpus\n",
    "fs_test_corpus = fs_Corpus()\n",
    "for author, text, title in zip(*test_data.values()):\n",
    "    fs_test_corpus.add_book(author, title, text)\n",
    "\n",
    "fs_test_corpus.tokenise(tokenise_remove_pronouns_en)\n",
    "\n",
    "# Calculate Burrows' Delta - equivalent to author_deltas\n",
    "calculate_burrows_delta(fs_train_corpus, fs_test_corpus)"
   ]
  }
 ],
 "metadata": {
  "kernelspec": {
   "display_name": "fasterstylometry",
   "language": "python",
   "name": "python3"
  },
  "language_info": {
   "codemirror_mode": {
    "name": "ipython",
    "version": 3
   },
   "file_extension": ".py",
   "mimetype": "text/x-python",
   "name": "python",
   "nbconvert_exporter": "python",
   "pygments_lexer": "ipython3",
   "version": "3.11.10"
  }
 },
 "nbformat": 4,
 "nbformat_minor": 2
}
