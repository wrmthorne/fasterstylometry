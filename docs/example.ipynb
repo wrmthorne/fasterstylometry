{
 "cells": [
  {
   "cell_type": "code",
   "execution_count": 1,
   "metadata": {},
   "outputs": [],
   "source": [
    "from gutenberg.acquire import load_etext\n",
    "from gutenberg.cleanup import strip_headers\n",
    "\n",
    "from fasterstylometry.burrows_delta import BurrowsDelta, LazyBurrowsDelta\n",
    "from fasterstylometry.corpus import LazyCorpus, Corpus"
   ]
  },
  {
   "cell_type": "markdown",
   "metadata": {},
   "source": [
    "## Loading Books\n",
    "\n",
    "We can load in some sample books from project gutenberg. Into the reference set we will load three works by Jane Austen and three works by Shakespeare but two of the words will be different editions of the same story. The test set will contain one work by Jane Austen, one by Shakespeare and one by Charles Dickens.\n",
    "\n",
    "Depending on how Gutenbergs mirrors are faring when you try to download the books, you may have to select a [mirror from their list](https://www.gutenberg.org/MIRRORS.ALL)."
   ]
  },
  {
   "cell_type": "code",
   "execution_count": 2,
   "metadata": {},
   "outputs": [],
   "source": [
    "mirror = 'http://gutenberg.pglaf.org/'\n",
    "\n",
    "reference_ids = [1342, 161, 158, 1513, 27761, 1524]\n",
    "reference_data = {\n",
    "    'authors': ['Jane Austen', 'Jane Austen', 'Jane Austen', 'William Shakespeare', 'William Shakespeare', 'William Shakespeare'],\n",
    "    'titles': ['Pride and Prejudice', 'Sense and Sensibility', 'Emma', 'Romeo and Juliet', 'Hamlet', 'Hamlet'],\n",
    "    'texts': [strip_headers(load_etext(id, mirror=mirror)).strip() for id in reference_ids]\n",
    "}\n",
    "\n",
    "test_ids = [105, 23042, 1400]\n",
    "test_data = {\n",
    "    'authors': ['Jane Austen', 'William Shakespeare', 'Charles Dickens'],\n",
    "    'titles': ['Persuasion', 'The Temptest', 'Great Expectations'],\n",
    "    'texts': [strip_headers(load_etext(id, mirror=mirror)).strip() for id in test_ids]\n",
    "}"
   ]
  },
  {
   "cell_type": "code",
   "execution_count": 3,
   "metadata": {},
   "outputs": [],
   "source": [
    "reference_corpus = Corpus(**reference_data)\n",
    "test_corpus = Corpus(**test_data)\n",
    "\n",
    "lazy_reference_corpus = LazyCorpus(**reference_data)\n",
    "lazy_test_corpus = LazyCorpus(**test_data)"
   ]
  },
  {
   "cell_type": "code",
   "execution_count": 4,
   "metadata": {},
   "outputs": [
    {
     "data": {
      "text/html": [
       "<div><style>\n",
       ".dataframe > thead > tr,\n",
       ".dataframe > tbody > tr {\n",
       "  text-align: right;\n",
       "  white-space: pre-wrap;\n",
       "}\n",
       "</style>\n",
       "<small>shape: (18, 7)</small><table border=\"1\" class=\"dataframe\"><thead><tr><th>index</th><th>authors</th><th>titles</th><th>index_test</th><th>authors_test</th><th>titles_test</th><th>burrows_delta</th></tr><tr><td>str</td><td>str</td><td>str</td><td>str</td><td>str</td><td>str</td><td>f64</td></tr></thead><tbody><tr><td>&quot;2cb421cb-40c1-4b38-8fd0-edfe9c…</td><td>&quot;William Shakespeare&quot;</td><td>&quot;Romeo and Juliet&quot;</td><td>&quot;cf428c01-e2b2-40cf-b9a3-808b70…</td><td>&quot;William Shakespeare&quot;</td><td>&quot;The Temptest&quot;</td><td>8.156757</td></tr><tr><td>&quot;b7a42d1d-ee13-4027-8317-03aab0…</td><td>&quot;William Shakespeare&quot;</td><td>&quot;Hamlet&quot;</td><td>&quot;cf428c01-e2b2-40cf-b9a3-808b70…</td><td>&quot;William Shakespeare&quot;</td><td>&quot;The Temptest&quot;</td><td>13.794595</td></tr><tr><td>&quot;e9b0b300-4384-439c-aac1-a4bce8…</td><td>&quot;William Shakespeare&quot;</td><td>&quot;Hamlet&quot;</td><td>&quot;cf428c01-e2b2-40cf-b9a3-808b70…</td><td>&quot;William Shakespeare&quot;</td><td>&quot;The Temptest&quot;</td><td>18.167568</td></tr><tr><td>&quot;08d8dc84-7ae4-4abd-9b4a-8e5769…</td><td>&quot;Jane Austen&quot;</td><td>&quot;Sense and Sensibility&quot;</td><td>&quot;df942dbe-dccc-4b4a-abb2-02c317…</td><td>&quot;Jane Austen&quot;</td><td>&quot;Persuasion&quot;</td><td>56.259459</td></tr><tr><td>&quot;eaae09dd-371a-4fb4-931a-ec3d67…</td><td>&quot;Jane Austen&quot;</td><td>&quot;Pride and Prejudice&quot;</td><td>&quot;df942dbe-dccc-4b4a-abb2-02c317…</td><td>&quot;Jane Austen&quot;</td><td>&quot;Persuasion&quot;</td><td>68.216216</td></tr><tr><td>&hellip;</td><td>&hellip;</td><td>&hellip;</td><td>&hellip;</td><td>&hellip;</td><td>&hellip;</td><td>&hellip;</td></tr><tr><td>&quot;b7a42d1d-ee13-4027-8317-03aab0…</td><td>&quot;William Shakespeare&quot;</td><td>&quot;Hamlet&quot;</td><td>&quot;df942dbe-dccc-4b4a-abb2-02c317…</td><td>&quot;Jane Austen&quot;</td><td>&quot;Persuasion&quot;</td><td>1.1608e7</td></tr><tr><td>&quot;08d8dc84-7ae4-4abd-9b4a-8e5769…</td><td>&quot;Jane Austen&quot;</td><td>&quot;Sense and Sensibility&quot;</td><td>&quot;4caf9ad0-499b-4189-a726-a703fe…</td><td>&quot;Charles Dickens&quot;</td><td>&quot;Great Expectations&quot;</td><td>1.1608e7</td></tr><tr><td>&quot;e9b0b300-4384-439c-aac1-a4bce8…</td><td>&quot;William Shakespeare&quot;</td><td>&quot;Hamlet&quot;</td><td>&quot;df942dbe-dccc-4b4a-abb2-02c317…</td><td>&quot;Jane Austen&quot;</td><td>&quot;Persuasion&quot;</td><td>1.1608e7</td></tr><tr><td>&quot;eaae09dd-371a-4fb4-931a-ec3d67…</td><td>&quot;Jane Austen&quot;</td><td>&quot;Pride and Prejudice&quot;</td><td>&quot;4caf9ad0-499b-4189-a726-a703fe…</td><td>&quot;Charles Dickens&quot;</td><td>&quot;Great Expectations&quot;</td><td>1.1608e7</td></tr><tr><td>&quot;3d7080ed-a497-4e71-8f15-4da868…</td><td>&quot;Jane Austen&quot;</td><td>&quot;Emma&quot;</td><td>&quot;4caf9ad0-499b-4189-a726-a703fe…</td><td>&quot;Charles Dickens&quot;</td><td>&quot;Great Expectations&quot;</td><td>1.1608e7</td></tr></tbody></table></div>"
      ],
      "text/plain": [
       "shape: (18, 7)\n",
       "┌──────────────┬─────────────┬─────────────┬─────────────┬─────────────┬─────────────┬─────────────┐\n",
       "│ index        ┆ authors     ┆ titles      ┆ index_test  ┆ authors_tes ┆ titles_test ┆ burrows_del │\n",
       "│ ---          ┆ ---         ┆ ---         ┆ ---         ┆ t           ┆ ---         ┆ ta          │\n",
       "│ str          ┆ str         ┆ str         ┆ str         ┆ ---         ┆ str         ┆ ---         │\n",
       "│              ┆             ┆             ┆             ┆ str         ┆             ┆ f64         │\n",
       "╞══════════════╪═════════════╪═════════════╪═════════════╪═════════════╪═════════════╪═════════════╡\n",
       "│ 2cb421cb-40c ┆ William     ┆ Romeo and   ┆ cf428c01-e2 ┆ William     ┆ The         ┆ 8.156757    │\n",
       "│ 1-4b38-8fd0- ┆ Shakespeare ┆ Juliet      ┆ b2-40cf-b9a ┆ Shakespeare ┆ Temptest    ┆             │\n",
       "│ edfe9c…      ┆             ┆             ┆ 3-808b70…   ┆             ┆             ┆             │\n",
       "│ b7a42d1d-ee1 ┆ William     ┆ Hamlet      ┆ cf428c01-e2 ┆ William     ┆ The         ┆ 13.794595   │\n",
       "│ 3-4027-8317- ┆ Shakespeare ┆             ┆ b2-40cf-b9a ┆ Shakespeare ┆ Temptest    ┆             │\n",
       "│ 03aab0…      ┆             ┆             ┆ 3-808b70…   ┆             ┆             ┆             │\n",
       "│ e9b0b300-438 ┆ William     ┆ Hamlet      ┆ cf428c01-e2 ┆ William     ┆ The         ┆ 18.167568   │\n",
       "│ 4-439c-aac1- ┆ Shakespeare ┆             ┆ b2-40cf-b9a ┆ Shakespeare ┆ Temptest    ┆             │\n",
       "│ a4bce8…      ┆             ┆             ┆ 3-808b70…   ┆             ┆             ┆             │\n",
       "│ 08d8dc84-7ae ┆ Jane Austen ┆ Sense and   ┆ df942dbe-dc ┆ Jane Austen ┆ Persuasion  ┆ 56.259459   │\n",
       "│ 4-4abd-9b4a- ┆             ┆ Sensibility ┆ cc-4b4a-abb ┆             ┆             ┆             │\n",
       "│ 8e5769…      ┆             ┆             ┆ 2-02c317…   ┆             ┆             ┆             │\n",
       "│ eaae09dd-371 ┆ Jane Austen ┆ Pride and   ┆ df942dbe-dc ┆ Jane Austen ┆ Persuasion  ┆ 68.216216   │\n",
       "│ a-4fb4-931a- ┆             ┆ Prejudice   ┆ cc-4b4a-abb ┆             ┆             ┆             │\n",
       "│ ec3d67…      ┆             ┆             ┆ 2-02c317…   ┆             ┆             ┆             │\n",
       "│ …            ┆ …           ┆ …           ┆ …           ┆ …           ┆ …           ┆ …           │\n",
       "│ b7a42d1d-ee1 ┆ William     ┆ Hamlet      ┆ df942dbe-dc ┆ Jane Austen ┆ Persuasion  ┆ 1.1608e7    │\n",
       "│ 3-4027-8317- ┆ Shakespeare ┆             ┆ cc-4b4a-abb ┆             ┆             ┆             │\n",
       "│ 03aab0…      ┆             ┆             ┆ 2-02c317…   ┆             ┆             ┆             │\n",
       "│ 08d8dc84-7ae ┆ Jane Austen ┆ Sense and   ┆ 4caf9ad0-49 ┆ Charles     ┆ Great Expec ┆ 1.1608e7    │\n",
       "│ 4-4abd-9b4a- ┆             ┆ Sensibility ┆ 9b-4189-a72 ┆ Dickens     ┆ tations     ┆             │\n",
       "│ 8e5769…      ┆             ┆             ┆ 6-a703fe…   ┆             ┆             ┆             │\n",
       "│ e9b0b300-438 ┆ William     ┆ Hamlet      ┆ df942dbe-dc ┆ Jane Austen ┆ Persuasion  ┆ 1.1608e7    │\n",
       "│ 4-439c-aac1- ┆ Shakespeare ┆             ┆ cc-4b4a-abb ┆             ┆             ┆             │\n",
       "│ a4bce8…      ┆             ┆             ┆ 2-02c317…   ┆             ┆             ┆             │\n",
       "│ eaae09dd-371 ┆ Jane Austen ┆ Pride and   ┆ 4caf9ad0-49 ┆ Charles     ┆ Great Expec ┆ 1.1608e7    │\n",
       "│ a-4fb4-931a- ┆             ┆ Prejudice   ┆ 9b-4189-a72 ┆ Dickens     ┆ tations     ┆             │\n",
       "│ ec3d67…      ┆             ┆             ┆ 6-a703fe…   ┆             ┆             ┆             │\n",
       "│ 3d7080ed-a49 ┆ Jane Austen ┆ Emma        ┆ 4caf9ad0-49 ┆ Charles     ┆ Great Expec ┆ 1.1608e7    │\n",
       "│ 7-4e71-8f15- ┆             ┆             ┆ 9b-4189-a72 ┆ Dickens     ┆ tations     ┆             │\n",
       "│ 4da868…      ┆             ┆             ┆ 6-a703fe…   ┆             ┆             ┆             │\n",
       "└──────────────┴─────────────┴─────────────┴─────────────┴─────────────┴─────────────┴─────────────┘"
      ]
     },
     "execution_count": 4,
     "metadata": {},
     "output_type": "execute_result"
    }
   ],
   "source": [
    "delta = BurrowsDelta(reference_corpus, test_corpus)\n",
    "delta.document_deltas"
   ]
  },
  {
   "cell_type": "code",
   "execution_count": 5,
   "metadata": {},
   "outputs": [
    {
     "ename": "DuplicateError",
     "evalue": "the name 'tokens' is duplicate\n\nIt's possible that multiple expressions are returning the same default column name. If this is the case, try renaming the columns with `.alias(\"new_name\")` to avoid duplicate column names.",
     "output_type": "error",
     "traceback": [
      "\u001b[0;31m---------------------------------------------------------------------------\u001b[0m",
      "\u001b[0;31mDuplicateError\u001b[0m                            Traceback (most recent call last)",
      "Cell \u001b[0;32mIn[5], line 2\u001b[0m\n\u001b[1;32m      1\u001b[0m lazy_delta \u001b[38;5;241m=\u001b[39m LazyBurrowsDelta(lazy_reference_corpus, lazy_test_corpus)\n\u001b[0;32m----> 2\u001b[0m \u001b[43mlazy_delta\u001b[49m\u001b[38;5;241;43m.\u001b[39;49m\u001b[43mdocument_deltas\u001b[49m\n",
      "File \u001b[0;32m~/Documents/Parable/fasterstylometry/fasterstylometry/burrows_delta.py:170\u001b[0m, in \u001b[0;36mLazyBurrowsDelta.document_deltas\u001b[0;34m(self)\u001b[0m\n\u001b[1;32m    165\u001b[0m \u001b[38;5;250m\u001b[39m\u001b[38;5;124;03m\"\"\"\u001b[39;00m\n\u001b[1;32m    166\u001b[0m \u001b[38;5;124;03mReturns a DataFrame with the burrows deltas between every pair of\u001b[39;00m\n\u001b[1;32m    167\u001b[0m \u001b[38;5;124;03mdocuments in the source and reference corpora.\u001b[39;00m\n\u001b[1;32m    168\u001b[0m \u001b[38;5;124;03m\"\"\"\u001b[39;00m\n\u001b[1;32m    169\u001b[0m \u001b[38;5;28;01mif\u001b[39;00m \u001b[38;5;28mself\u001b[39m\u001b[38;5;241m.\u001b[39m_document_deltas \u001b[38;5;129;01mis\u001b[39;00m \u001b[38;5;28;01mNone\u001b[39;00m:\n\u001b[0;32m--> 170\u001b[0m     \u001b[38;5;28mself\u001b[39m\u001b[38;5;241m.\u001b[39m_document_deltas \u001b[38;5;241m=\u001b[39m \u001b[38;5;28;43mself\u001b[39;49m\u001b[38;5;241;43m.\u001b[39;49m\u001b[43m_calculate_burrows_delta\u001b[49m\u001b[43m(\u001b[49m\u001b[43m)\u001b[49m\n\u001b[1;32m    171\u001b[0m \u001b[38;5;28;01mreturn\u001b[39;00m \u001b[38;5;28mself\u001b[39m\u001b[38;5;241m.\u001b[39m_document_deltas\n",
      "File \u001b[0;32m~/Documents/Parable/fasterstylometry/fasterstylometry/burrows_delta.py:125\u001b[0m, in \u001b[0;36mLazyBurrowsDelta._calculate_burrows_delta\u001b[0;34m(self)\u001b[0m\n\u001b[1;32m    122\u001b[0m train_z_scores \u001b[38;5;241m=\u001b[39m \u001b[38;5;28mself\u001b[39m\u001b[38;5;241m.\u001b[39mtrain_corpus\u001b[38;5;241m.\u001b[39mz_scores\n\u001b[1;32m    123\u001b[0m test_z_scores \u001b[38;5;241m=\u001b[39m \u001b[38;5;28mself\u001b[39m\u001b[38;5;241m.\u001b[39mtest_corpus\u001b[38;5;241m.\u001b[39mz_scores\n\u001b[0;32m--> 125\u001b[0m \u001b[38;5;28mprint\u001b[39m(\u001b[43mtrain_z_scores\u001b[49m\u001b[38;5;241;43m.\u001b[39;49m\u001b[43mcollect\u001b[49m\u001b[43m(\u001b[49m\u001b[43m)\u001b[49m)\n",
      "File \u001b[0;32m~/miniconda3/envs/fasterstylometry/lib/python3.11/site-packages/polars/lazyframe/frame.py:2053\u001b[0m, in \u001b[0;36mLazyFrame.collect\u001b[0;34m(self, type_coercion, predicate_pushdown, projection_pushdown, simplify_expression, slice_pushdown, comm_subplan_elim, comm_subexpr_elim, cluster_with_columns, collapse_joins, no_optimization, streaming, engine, background, _eager, **_kwargs)\u001b[0m\n\u001b[1;32m   2051\u001b[0m \u001b[38;5;66;03m# Only for testing purposes\u001b[39;00m\n\u001b[1;32m   2052\u001b[0m callback \u001b[38;5;241m=\u001b[39m _kwargs\u001b[38;5;241m.\u001b[39mget(\u001b[38;5;124m\"\u001b[39m\u001b[38;5;124mpost_opt_callback\u001b[39m\u001b[38;5;124m\"\u001b[39m, callback)\n\u001b[0;32m-> 2053\u001b[0m \u001b[38;5;28;01mreturn\u001b[39;00m wrap_df(\u001b[43mldf\u001b[49m\u001b[38;5;241;43m.\u001b[39;49m\u001b[43mcollect\u001b[49m\u001b[43m(\u001b[49m\u001b[43mcallback\u001b[49m\u001b[43m)\u001b[49m)\n",
      "\u001b[0;31mDuplicateError\u001b[0m: the name 'tokens' is duplicate\n\nIt's possible that multiple expressions are returning the same default column name. If this is the case, try renaming the columns with `.alias(\"new_name\")` to avoid duplicate column names."
     ]
    }
   ],
   "source": [
    "lazy_delta = LazyBurrowsDelta(lazy_reference_corpus, lazy_test_corpus)\n",
    "lazy_delta.document_deltas"
   ]
  }
 ],
 "metadata": {
  "kernelspec": {
   "display_name": "fasterstylometry",
   "language": "python",
   "name": "python3"
  },
  "language_info": {
   "codemirror_mode": {
    "name": "ipython",
    "version": 3
   },
   "file_extension": ".py",
   "mimetype": "text/x-python",
   "name": "python",
   "nbconvert_exporter": "python",
   "pygments_lexer": "ipython3",
   "version": "3.11.10"
  }
 },
 "nbformat": 4,
 "nbformat_minor": 2
}
